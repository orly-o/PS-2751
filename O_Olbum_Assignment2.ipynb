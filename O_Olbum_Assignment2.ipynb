{
 "cells": [
  {
   "cell_type": "markdown",
   "source": [
    "# Assignment2 </br>\r\n",
    "### Orly Olbum </br>\r\n"
   ],
   "metadata": {}
  },
  {
   "cell_type": "code",
   "execution_count": 28,
   "source": [
    "import numpy as np"
   ],
   "outputs": [],
   "metadata": {}
  },
  {
   "cell_type": "markdown",
   "source": [
    "## P. 177 #1a, b, c, d"
   ],
   "metadata": {}
  },
  {
   "cell_type": "code",
   "execution_count": 29,
   "source": [
    "# a: represent A as a numpy array A\r\n",
    "a = [[1, 2, 3], [0, -4, 6], [3, 7, 5]]\r\n",
    "A = np.array(a)\r\n",
    "A"
   ],
   "outputs": [
    {
     "output_type": "execute_result",
     "data": {
      "text/plain": [
       "array([[ 1,  2,  3],\n",
       "       [ 0, -4,  6],\n",
       "       [ 3,  7,  5]])"
      ]
     },
     "metadata": {},
     "execution_count": 29
    }
   ],
   "metadata": {}
  },
  {
   "cell_type": "code",
   "execution_count": 30,
   "source": [
    "# b: the first row of A\r\n",
    "A[0]"
   ],
   "outputs": [
    {
     "output_type": "execute_result",
     "data": {
      "text/plain": [
       "array([1, 2, 3])"
      ]
     },
     "metadata": {},
     "execution_count": 30
    }
   ],
   "metadata": {}
  },
  {
   "cell_type": "code",
   "execution_count": 31,
   "source": [
    "# c: the second column of A\r\n",
    "A[:,1]"
   ],
   "outputs": [
    {
     "output_type": "execute_result",
     "data": {
      "text/plain": [
       "array([ 2, -4,  7])"
      ]
     },
     "metadata": {},
     "execution_count": 31
    }
   ],
   "metadata": {}
  },
  {
   "cell_type": "code",
   "execution_count": 32,
   "source": [
    "# d: the matrix inverse of A\r\n",
    "Ainv = np.linalg.inv(A)\r\n",
    "Ainv"
   ],
   "outputs": [
    {
     "output_type": "execute_result",
     "data": {
      "text/plain": [
       "array([[-6.2,  1.1,  2.4],\n",
       "       [ 1.8, -0.4, -0.6],\n",
       "       [ 1.2, -0.1, -0.4]])"
      ]
     },
     "metadata": {},
     "execution_count": 32
    }
   ],
   "metadata": {}
  },
  {
   "cell_type": "markdown",
   "source": [
    "## P. 217 #2\r\n",
    "\r\n",
    "Look up the populations of the ten largest cities in the US and plot a bar chart of the results."
   ],
   "metadata": {}
  },
  {
   "cell_type": "code",
   "execution_count": 33,
   "source": [
    "import matplotlib.pyplot as plt"
   ],
   "outputs": [],
   "metadata": {}
  },
  {
   "cell_type": "code",
   "execution_count": 34,
   "source": [
    "cities = {\r\n",
    "    \"New York City\": 8398748,\r\n",
    "    \"Los Angeles\": 3990456,\r\n",
    "    \"Chicago\": 2705994,\r\n",
    "    \"Houston\": 2325502,\r\n",
    "    \"Phoenix\": 1660272,\r\n",
    "    \"Philadelphia\": 1584138,\r\n",
    "    \"San Antonio\": 1532233,\r\n",
    "    \"San Diego\": 1425976,\r\n",
    "    \"Dallas\": 1345047,\r\n",
    "    \"San Jose\": 1030119\r\n",
    "}\r\n",
    "\r\n",
    "x = list(cities)\r\n",
    "y = [cities[j] for j in x]\r\n",
    "xy = zip(x, y)\r\n",
    "xy = sorted(xy, key = lambda z:z[-1], reverse = True)\r\n",
    "\r\n",
    "big = xy[:9]\r\n",
    "cities, numbers = zip(*big)\r\n",
    "\r\n",
    "yvals = np.arange(len(cities), 0, -1)\r\n",
    "plt.title(\"Top 10 US City Populations\")\r\n",
    "plt.barh(yvals, numbers, align = \"center\")\r\n",
    "plt.yticks(yvals, cities)"
   ],
   "outputs": [
    {
     "output_type": "execute_result",
     "data": {
      "text/plain": [
       "([<matplotlib.axis.YTick at 0x1eb63dc0fa0>,\n",
       "  <matplotlib.axis.YTick at 0x1eb63dc0b80>,\n",
       "  <matplotlib.axis.YTick at 0x1eb63daf940>,\n",
       "  <matplotlib.axis.YTick at 0x1eb63dfb7c0>,\n",
       "  <matplotlib.axis.YTick at 0x1eb63dfbcd0>,\n",
       "  <matplotlib.axis.YTick at 0x1eb63e02220>,\n",
       "  <matplotlib.axis.YTick at 0x1eb63e02730>,\n",
       "  <matplotlib.axis.YTick at 0x1eb63e02c40>,\n",
       "  <matplotlib.axis.YTick at 0x1eb63e081c0>],\n",
       " [Text(0, 9, 'New York City'),\n",
       "  Text(0, 8, 'Los Angeles'),\n",
       "  Text(0, 7, 'Chicago'),\n",
       "  Text(0, 6, 'Houston'),\n",
       "  Text(0, 5, 'Phoenix'),\n",
       "  Text(0, 4, 'Philadelphia'),\n",
       "  Text(0, 3, 'San Antonio'),\n",
       "  Text(0, 2, 'San Diego'),\n",
       "  Text(0, 1, 'Dallas')])"
      ]
     },
     "metadata": {},
     "execution_count": 34
    },
    {
     "output_type": "display_data",
     "data": {
      "image/png": "[encoded data removed]",
      "text/plain": [
       "<Figure size 432x288 with 1 Axes>"
      ]
     },
     "metadata": {
      "needs_background": "light"
     }
    }
   ],
   "metadata": {}
  },
  {
   "cell_type": "markdown",
   "source": [
    "## P. 221 # 6\r\n",
    "\r\n",
    "Write a program that will read a comma delimited file containing variable length rows. Some cells may be empty within a given row. For example, the rows might contain a student name followed by a sequence of course names and grades. Store the data in a dictionary that is keyed by the element in the first column, with the items stored as a list."
   ],
   "metadata": {}
  },
  {
   "cell_type": "code",
   "execution_count": 38,
   "source": [
    "import csv\r\n",
    "\r\n",
    "with open(\"hw2.csv\", mode = \"r\") as inp:\r\n",
    "    reader = csv.reader(inp)\r\n",
    "    dict_csv = {rows[0]: rows[1:] for rows in reader}\r\n",
    "\r\n",
    "# print(dict_csv)\r\n",
    "\r\n",
    "# I like the look of this better but left the previous line as regular print of the dictionary\r\n",
    "for key, value in dict_csv.items():\r\n",
    "    print(key, \": \", value)"
   ],
   "outputs": [
    {
     "output_type": "stream",
     "name": "stdout",
     "text": [
      "Tom Jones :  ['Science', 'A-', 'Math', 'C-', '', '']\n",
      "Dick Smith :  ['Music', 'D', 'Art History', 'B', 'English', 'C+']\n",
      "Sally Quinn :  ['Geography', '', 'Math', 'A-', 'Science', 'B']\n"
     ]
    }
   ],
   "metadata": {}
  },
  {
   "cell_type": "markdown",
   "source": [
    "## P. 232 # 4\r\n",
    "\r\n",
    "Write a recursive function to reverse a string without using reverse."
   ],
   "metadata": {}
  },
  {
   "cell_type": "code",
   "execution_count": 36,
   "source": [
    "string = \"a man a plan a canal panama\"\r\n",
    "\r\n",
    "def rev(x):\r\n",
    "    return x[::-1]\r\n",
    "\r\n",
    "newstring = rev(string)\r\n",
    "print(newstring)"
   ],
   "outputs": [
    {
     "output_type": "stream",
     "name": "stdout",
     "text": [
      "amanap lanac a nalp a nam a\n"
     ]
    }
   ],
   "metadata": {}
  }
 ],
 "metadata": {
  "orig_nbformat": 4,
  "language_info": {
   "name": "python",
   "version": "3.8.5",
   "mimetype": "text/x-python",
   "codemirror_mode": {
    "name": "ipython",
    "version": 3
   },
   "pygments_lexer": "ipython3",
   "nbconvert_exporter": "python",
   "file_extension": ".py"
  },
  "kernelspec": {
   "name": "python3",
   "display_name": "Python 3.8.5 64-bit ('base': conda)"
  },
  "interpreter": {
   "hash": "180e21d8eccf18e05f59ae8e06e5b89553eb4d2987ff3fc3ad13f2e83a233c18"
  }
 },
 "nbformat": 4,
 "nbformat_minor": 2
}