{
 "cells": [
  {
   "cell_type": "markdown",
   "source": [
    "# Assignment1 </br>\r\n",
    "### Orly Olbum </br>\r\n"
   ],
   "metadata": {}
  },
  {
   "cell_type": "code",
   "execution_count": 77,
   "source": [
    "import numpy as np\r\n",
    "import math"
   ],
   "outputs": [],
   "metadata": {}
  },
  {
   "cell_type": "markdown",
   "source": [
    "## P. 97 Exercise 1"
   ],
   "metadata": {}
  },
  {
   "cell_type": "code",
   "execution_count": 78,
   "source": [
    "list1 = [2, 4, 6, 8, 10, 12, 14, 16, 18, 20]\r\n",
    "out = np.sqrt(list1)\r\n",
    "print(*out, sep = \" \")"
   ],
   "outputs": [
    {
     "output_type": "stream",
     "name": "stdout",
     "text": [
      "1.4142135623730951 2.0 2.449489742783178 2.8284271247461903 3.1622776601683795 3.4641016151377544 3.7416573867739413 4.0 4.242640687119285 4.47213595499958\n"
     ]
    }
   ],
   "metadata": {}
  },
  {
   "cell_type": "markdown",
   "source": [
    "## P. 123 Exercise 1"
   ],
   "metadata": {}
  },
  {
   "cell_type": "code",
   "execution_count": 79,
   "source": [
    "# a list of two lists, one of which is numeric and one of which is not\r\n",
    "list2 = [['a', 'b', 'c'], [1, 3, 5]]\r\n",
    "\r\n",
    "# a loop to see if each element within each list within the main list is numeric\r\n",
    "for x in list2:\r\n",
    "    for y in x:\r\n",
    "        result = isinstance(y, int)\r\n",
    "        print(result)\r\n",
    "\r\n",
    "# see if all items are numeric in the main list\r\n",
    "all(isinstance(x, int) for x in list2)"
   ],
   "outputs": [
    {
     "output_type": "stream",
     "name": "stdout",
     "text": [
      "False\n",
      "False\n",
      "False\n",
      "True\n",
      "True\n",
      "True\n"
     ]
    },
    {
     "output_type": "execute_result",
     "data": {
      "text/plain": [
       "False"
      ]
     },
     "metadata": {},
     "execution_count": 79
    }
   ],
   "metadata": {}
  },
  {
   "cell_type": "markdown",
   "source": [
    "## P. 131 Exercises 1a, b, c, d, e, f, g; 2a,c"
   ],
   "metadata": {}
  },
  {
   "cell_type": "code",
   "execution_count": 80,
   "source": [
    "# Exercise 1\r\n",
    "x = \"Monty Python's Flying Circus\""
   ],
   "outputs": [],
   "metadata": {}
  },
  {
   "cell_type": "code",
   "execution_count": 81,
   "source": [
    "# a\r\n",
    "x.lower()"
   ],
   "outputs": [
    {
     "output_type": "execute_result",
     "data": {
      "text/plain": [
       "\"monty python's flying circus\""
      ]
     },
     "metadata": {},
     "execution_count": 81
    }
   ],
   "metadata": {}
  },
  {
   "cell_type": "code",
   "execution_count": 82,
   "source": [
    "# b\r\n",
    "x.split(\" \")"
   ],
   "outputs": [
    {
     "output_type": "execute_result",
     "data": {
      "text/plain": [
       "['Monty', \"Python's\", 'Flying', 'Circus']"
      ]
     },
     "metadata": {},
     "execution_count": 82
    }
   ],
   "metadata": {}
  },
  {
   "cell_type": "code",
   "execution_count": 83,
   "source": [
    "# c\r\n",
    "x.count(\"y\")"
   ],
   "outputs": [
    {
     "output_type": "execute_result",
     "data": {
      "text/plain": [
       "3"
      ]
     },
     "metadata": {},
     "execution_count": 83
    }
   ],
   "metadata": {}
  },
  {
   "cell_type": "code",
   "execution_count": 84,
   "source": [
    "# d\r\n",
    "xlist = [c for c in x]\r\n",
    "print(xlist)"
   ],
   "outputs": [
    {
     "output_type": "stream",
     "name": "stdout",
     "text": [
      "['M', 'o', 'n', 't', 'y', ' ', 'P', 'y', 't', 'h', 'o', 'n', \"'\", 's', ' ', 'F', 'l', 'y', 'i', 'n', 'g', ' ', 'C', 'i', 'r', 'c', 'u', 's']\n"
     ]
    }
   ],
   "metadata": {}
  },
  {
   "cell_type": "code",
   "execution_count": 85,
   "source": [
    "# e\r\n",
    "xlistunique = set(xlist)\r\n",
    "print(xlistunique)"
   ],
   "outputs": [
    {
     "output_type": "stream",
     "name": "stdout",
     "text": [
      "{'P', \"'\", 's', 'o', 'M', 'u', 'l', 'g', 'y', 'n', 'C', 'h', ' ', 'i', 't', 'c', 'r', 'F'}\n"
     ]
    }
   ],
   "metadata": {}
  },
  {
   "cell_type": "code",
   "execution_count": 86,
   "source": [
    "# f\r\n",
    "xnew = x.replace(\"'\", \"\\\"\")\r\n",
    "print(xnew)"
   ],
   "outputs": [
    {
     "output_type": "stream",
     "name": "stdout",
     "text": [
      "Monty Python\"s Flying Circus\n"
     ]
    }
   ],
   "metadata": {}
  },
  {
   "cell_type": "code",
   "execution_count": 87,
   "source": [
    "# g\r\n",
    "xnew2 = x.replace(\"y\", \"aieee\")\r\n",
    "print(xnew2)"
   ],
   "outputs": [
    {
     "output_type": "stream",
     "name": "stdout",
     "text": [
      "Montaieee Paieeethon's Flaieeeing Circus\n"
     ]
    }
   ],
   "metadata": {}
  },
  {
   "cell_type": "code",
   "execution_count": 88,
   "source": [
    "# Exercise 2\r\n",
    "z = \"You will get me\"\r\n",
    "w = \"A shrubbery\"\r\n",
    "u = \"Plant Here\""
   ],
   "outputs": [],
   "metadata": {}
  },
  {
   "cell_type": "code",
   "execution_count": 89,
   "source": [
    "# a\r\n",
    "parta = z + \" \" + w.lower() + \".\"\r\n",
    "print(parta)"
   ],
   "outputs": [
    {
     "output_type": "stream",
     "name": "stdout",
     "text": [
      "You will get me a shrubbery.\n"
     ]
    }
   ],
   "metadata": {}
  },
  {
   "cell_type": "code",
   "execution_count": 90,
   "source": [
    "# c\r\n",
    "partc = w + \" \" + z.lower() + \".\"\r\n",
    "print(partc)"
   ],
   "outputs": [
    {
     "output_type": "stream",
     "name": "stdout",
     "text": [
      "A shrubbery you will get me.\n"
     ]
    }
   ],
   "metadata": {}
  },
  {
   "cell_type": "markdown",
   "source": [
    "## P. 162 Exercise 1a, b and c"
   ],
   "metadata": {}
  },
  {
   "cell_type": "markdown",
   "source": [
    "### a: even numbers between 175 to 225\r\n"
   ],
   "metadata": {}
  },
  {
   "cell_type": "code",
   "execution_count": 91,
   "source": [
    "lista = [x for x in range(175, 226) if x % 2 == 0]\r\n",
    "print(lista)"
   ],
   "outputs": [
    {
     "output_type": "stream",
     "name": "stdout",
     "text": [
      "[176, 178, 180, 182, 184, 186, 188, 190, 192, 194, 196, 198, 200, 202, 204, 206, 208, 210, 212, 214, 216, 218, 220, 222, 224]\n"
     ]
    }
   ],
   "metadata": {}
  },
  {
   "cell_type": "markdown",
   "source": [
    "### b: all perfect square integers under 1000"
   ],
   "metadata": {}
  },
  {
   "cell_type": "code",
   "execution_count": 92,
   "source": [
    "# define a function to see if a number is a perfect square\r\n",
    "def is_square(integer):\r\n",
    "    root = math.sqrt(integer)\r\n",
    "    return integer == int(root + 0.5) ** 2\r\n",
    "\r\n",
    "listb = [x for x in range(1, 1001) if is_square(x) == True]\r\n",
    "print(listb)"
   ],
   "outputs": [
    {
     "output_type": "stream",
     "name": "stdout",
     "text": [
      "[1, 4, 9, 16, 25, 36, 49, 64, 81, 100, 121, 144, 169, 196, 225, 256, 289, 324, 361, 400, 441, 484, 529, 576, 625, 676, 729, 784, 841, 900, 961]\n"
     ]
    }
   ],
   "metadata": {}
  },
  {
   "cell_type": "markdown",
   "source": [
    "### c: all square roots of positive integers from 1 to 20"
   ],
   "metadata": {}
  },
  {
   "cell_type": "code",
   "execution_count": 93,
   "source": [
    "listc = [math.sqrt(x) for x in range(1, 21) if x > 0]\r\n",
    "print(listc)"
   ],
   "outputs": [
    {
     "output_type": "stream",
     "name": "stdout",
     "text": [
      "[1.0, 1.4142135623730951, 1.7320508075688772, 2.0, 2.23606797749979, 2.449489742783178, 2.6457513110645907, 2.8284271247461903, 3.0, 3.1622776601683795, 3.3166247903554, 3.4641016151377544, 3.605551275463989, 3.7416573867739413, 3.872983346207417, 4.0, 4.123105625617661, 4.242640687119285, 4.358898943540674, 4.47213595499958]\n"
     ]
    }
   ],
   "metadata": {}
  }
 ],
 "metadata": {
  "orig_nbformat": 4,
  "language_info": {
   "name": "python",
   "version": "3.9.7",
   "mimetype": "text/x-python",
   "codemirror_mode": {
    "name": "ipython",
    "version": 3
   },
   "pygments_lexer": "ipython3",
   "nbconvert_exporter": "python",
   "file_extension": ".py"
  },
  "kernelspec": {
   "name": "python3",
   "display_name": "Python 3.9.7 64-bit (windows store)"
  },
  "interpreter": {
   "hash": "a6d1f8fcbd14926e8a83f54d618c1c14c9a806db8683d5f2128fa7d4dcf1e745"
  }
 },
 "nbformat": 4,
 "nbformat_minor": 2
}