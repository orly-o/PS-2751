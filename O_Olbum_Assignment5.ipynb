{
 "cells": [
  {
   "cell_type": "markdown",
   "metadata": {},
   "source": [
    "# Assignment5 </br>\n",
    "### Orly Olbum </br>\n"
   ]
  },
  {
   "cell_type": "markdown",
   "metadata": {},
   "source": [
    "## SC:py3, on page 448, try number 2a"
   ]
  },
  {
   "cell_type": "markdown",
   "metadata": {},
   "source": [
    "### Find the SVD of A using numpy.linalg.svd."
   ]
  },
  {
   "cell_type": "code",
   "execution_count": 15,
   "metadata": {},
   "outputs": [
    {
     "name": "stdout",
     "output_type": "stream",
     "text": [
      "[[10 22 32 31 41  1  0  0  1  0]\n",
      " [ 8  9 13 11 10  1  0  0  0  0]\n",
      " [56 22 39 88 19  0  0  1  2  3]\n",
      " [ 0  0  1  2  0 12 13 10 14 18]\n",
      " [ 1  2  0  1  0 29 33 15 20 32]\n",
      " [ 0  1  0  0  1 23 34 22  2 15]]\n",
      "[[-0.43576263 -0.02323797  0.86414503 -0.03919043  0.15317141  0.19449147]\n",
      " [-0.1667163  -0.00634615  0.1932772   0.01215241 -0.60048838 -0.7576776 ]\n",
      " [-0.88314102 -0.04057992 -0.46241801  0.02975314  0.03256587  0.05137121]\n",
      " [-0.02678926  0.3593577  -0.02079356 -0.4363243   0.64133929 -0.51770362]\n",
      " [-0.03594863  0.73245011 -0.01565606 -0.41311669 -0.42726813  0.3297817 ]\n",
      " [-0.01919838  0.57632619  0.03727449  0.79773861  0.14497432 -0.09319718]]\n",
      "[128.77949883  80.71692702  38.33651053  18.88900087   5.33387396\n",
      "   4.08482174]\n",
      "[[-0.42850922 -0.2376731  -0.39277218 -0.72331744 -0.28212805 -0.01869881\n",
      "  -0.01698492 -0.016405   -0.02589281 -0.03548672]\n",
      " [-0.02258726  0.00718706 -0.02538964 -0.03605256 -0.01500194  0.48043533\n",
      "   0.60009215  0.33721458  0.25680195  0.47610825]\n",
      " [-0.41014158  0.27606716  0.31589073 -0.30872615  0.74639163  0.03159357\n",
      "   0.01253026 -0.00222127 -0.01539976 -0.04443322]\n",
      " [ 0.05073715 -0.00670991 -0.01969741  0.01330319 -0.00647124  0.05848241\n",
      "   0.41389409  0.37164534 -0.67526499 -0.47743304]\n",
      " [-0.35167168 -0.3801622  -0.18625407  0.3494924   0.19476833 -0.33889288\n",
      "  -0.1562299   0.60488341  0.17653945  0.02696716]\n",
      " [-0.22276048 -0.20655819 -0.52396617  0.36961773  0.31341145  0.15778036\n",
      "   0.24087831 -0.54574656 -0.13253384 -0.0023244 ]\n",
      " [-0.44585134  0.13072788  0.33928884  0.17902454 -0.35428234 -0.4469417\n",
      "   0.48162615 -0.22770436  0.14801393 -0.07724049]\n",
      " [-0.50005283  0.12363101  0.16864636  0.28465351 -0.30437383  0.60789057\n",
      "  -0.36285978  0.04637076 -0.06885977 -0.15639633]\n",
      " [ 0.13418134 -0.62270496  0.3346537  -0.08870802  0.09229593  0.23322478\n",
      "   0.12490956 -0.11543867  0.38136809 -0.48691811]\n",
      " [-0.07030795 -0.50978062  0.42441453 -0.0177358  -0.01403536 -0.03145225\n",
      "  -0.08044928 -0.12978117 -0.50629986  0.52335192]]\n"
     ]
    }
   ],
   "source": [
    "import numpy as np\n",
    "\n",
    "matrix = np.matrix([[10, 22, 32, 31, 41, 1, 0, 0, 1, 0], [8, 9, 13, 11, 10, 1, 0, 0, 0, 0], [56, 22, 39, 88, 19, 0, 0, 1, 2, 3], [0, 0, 1, 2, 0, 12, 13, 10, 14, 18], [1, 2, 0, 1, 0, 29, 33, 15, 20, 32], [0, 1, 0, 0, 1, 23, 34, 22, 2, 15]])\n",
    "print(matrix)\n",
    "\n",
    "U, S, V = np.linalg.svd(matrix)\n",
    "print(U)\n",
    "print(S)\n",
    "print(V)"
   ]
  },
  {
   "cell_type": "markdown",
   "metadata": {},
   "source": [
    "### Truncate the SVD to only the top 2 eigenvectors (k=2), and plot the latent “coordinates” of each of the 6 documents. Use a different color or plotting symbol for the first 3 documents than the last 3."
   ]
  },
  {
   "cell_type": "code",
   "execution_count": 18,
   "metadata": {},
   "outputs": [
    {
     "name": "stdout",
     "output_type": "stream",
     "text": [
      "[128.77949883  80.71692702]\n"
     ]
    }
   ],
   "source": [
    "print(S[0:2])"
   ]
  },
  {
   "cell_type": "markdown",
   "metadata": {},
   "source": [
    "### Print out the truncated versions of U, S (sigma) and V. Describe in words what they mean and how they related the original document term matrix to your plot."
   ]
  },
  {
   "cell_type": "code",
   "execution_count": null,
   "metadata": {},
   "outputs": [],
   "source": []
  },
  {
   "cell_type": "markdown",
   "metadata": {},
   "source": [
    "### Extra-credit: use non-negative matrix factorization on the same problem above, compare the output of SVD and non-negative matrix factorization in this case."
   ]
  },
  {
   "cell_type": "code",
   "execution_count": null,
   "metadata": {},
   "outputs": [],
   "source": []
  }
 ],
 "metadata": {
  "interpreter": {
   "hash": "41ae306d6a8704444463402130b411b22fb6af047cdef8a56e45f99fcb5b30fe"
  },
  "kernelspec": {
   "display_name": "Python 3.9.1 64-bit",
   "name": "python3"
  },
  "language_info": {
   "codemirror_mode": {
    "name": "ipython",
    "version": 3
   },
   "file_extension": ".py",
   "mimetype": "text/x-python",
   "name": "python",
   "nbconvert_exporter": "python",
   "pygments_lexer": "ipython3",
   "version": "3.9.1"
  },
  "orig_nbformat": 4
 },
 "nbformat": 4,
 "nbformat_minor": 2
}
